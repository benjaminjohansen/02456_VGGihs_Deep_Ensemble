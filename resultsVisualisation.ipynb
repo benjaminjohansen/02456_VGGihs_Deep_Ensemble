{
 "cells": [
  {
   "cell_type": "code",
   "execution_count": null,
   "metadata": {},
   "outputs": [],
   "source": [
    "import matplotlib.pyplot as plt\n",
    "import seaborn as sns\n",
    "import pandas as pd\n",
    "import numpy as np\n",
    "\n",
    "%matplotlib inline"
   ]
  },
  {
   "cell_type": "code",
   "execution_count": null,
   "metadata": {},
   "outputs": [],
   "source": [
    "df1 = pd.read_csv('VGGish_concate.csv')\n",
    "epoch = []\n",
    "for i in range(df1.shape[0]):\n",
    "    epoch.append(i + 1)\n",
    "df1['epoch'] = epoch\n",
    "df1\n",
    "colOrdered =['lossTr','accTr','lossVal','accVal', 'accMajorVal', 'epoch']\n",
    "df1 = df1[colOrdered]\n",
    "df1"
   ]
  },
  {
   "cell_type": "code",
   "execution_count": null,
   "metadata": {},
   "outputs": [],
   "source": [
    "sns.set_style('white')\n",
    "flatui = [\"#0079B2\", \"#01ADFF\", \"#B26201\", \"#FFB964\", \"#FF8C01\"]\n",
    "sns.set_palette(flatui)\n",
    "\n",
    "\n",
    "df1.plot(x='epoch', figsize=(20,10), yticks=(np.arange(0, 1.1, 0.1)), fontsize=20, linewidth=4)\n",
    "plt.ylabel('Percentage', fontsize=24)\n",
    "plt.xlabel('Epochs',fontsize=24)\n",
    "# plt.title('With pre-trained parameters from Audioset', fontsize='30', y=1.03)\n",
    "plt.legend(fontsize=20)\n",
    "\n",
    "plt.savefig(\"Final.pdf\")"
   ]
  },
  {
   "cell_type": "code",
   "execution_count": null,
   "metadata": {},
   "outputs": [],
   "source": [
    "sns.set_style('white')\n",
    "\n",
    "df2.plot(x='epoch', figsize=(20,10), yticks=(np.arange(0, 1.1, 0.1)), fontsize=20, linewidth=4)\n",
    "plt.ylabel('Percentage', fontsize=24)\n",
    "plt.xlabel('Epochs',fontsize=24)\n",
    "plt.title('Without pre-trained parameters from Audioset', fontsize='30', y=1.03)\n",
    "plt.legend(fontsize=20)"
   ]
  },
  {
   "cell_type": "code",
   "execution_count": null,
   "metadata": {},
   "outputs": [],
   "source": []
  }
 ],
 "metadata": {
  "kernelspec": {
   "display_name": "Python 3",
   "language": "python",
   "name": "python3"
  },
  "language_info": {
   "codemirror_mode": {
    "name": "ipython",
    "version": 3
   },
   "file_extension": ".py",
   "mimetype": "text/x-python",
   "name": "python",
   "nbconvert_exporter": "python",
   "pygments_lexer": "ipython3"
  }
 },
 "nbformat": 4,
 "nbformat_minor": 2
}
